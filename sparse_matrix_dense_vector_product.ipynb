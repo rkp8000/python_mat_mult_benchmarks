{
 "cells": [
  {
   "cell_type": "markdown",
   "metadata": {},
   "source": [
    "### Mowgli"
   ]
  },
  {
   "cell_type": "code",
   "execution_count": 1,
   "metadata": {
    "collapsed": false
   },
   "outputs": [
    {
     "name": "stdout",
     "output_type": "stream",
     "text": [
      "Construction time: 6.573937 seconds.\n",
      "Dense product time: 20.541127 seconds.\n",
      "Sparse product time: 2.772633 seconds.\n"
     ]
    }
   ],
   "source": [
    "%reset -f\n",
    "import numpy as np\n",
    "from scipy.sparse import csc_matrix\n",
    "from time import time\n",
    "\n",
    "COUNT = 20\n",
    "N = 15000\n",
    "P = 0.1\n",
    "\n",
    "tic_0 = time()\n",
    "\n",
    "# construct matrix and vector\n",
    "a = (np.random.rand(N, N) < P).astype(np.float32)\n",
    "a_sparse = csc_matrix(a)\n",
    "x = np.random.rand(N)\n",
    "\n",
    "tic_1 = time()\n",
    "\n",
    "# perform dense multiplications\n",
    "for ii in range(COUNT):\n",
    "    b = a.dot(x)\n",
    "    \n",
    "tic_2 = time()\n",
    "\n",
    "# perform sparse multiplications\n",
    "for ii in range(COUNT):\n",
    "    b = a_sparse.dot(x)\n",
    "    \n",
    "tic_3 = time()\n",
    "\n",
    "print('Construction time: {0:.6f} seconds.'.format(tic_1 - tic_0))\n",
    "print('Dense product time: {0:.6f} seconds.'.format(tic_2 - tic_1))\n",
    "print('Sparse product time: {0:.6f} seconds.'.format(tic_3 - tic_2))"
   ]
  },
  {
   "cell_type": "markdown",
   "metadata": {},
   "source": [
    "### Baloo"
   ]
  },
  {
   "cell_type": "code",
   "execution_count": 1,
   "metadata": {
    "collapsed": false
   },
   "outputs": [
    {
     "name": "stdout",
     "output_type": "stream",
     "text": [
      "Construction time: 6.612838 seconds.\n",
      "Dense product time: 15.521104 seconds.\n",
      "Sparse product time: 2.188629 seconds.\n"
     ]
    }
   ],
   "source": [
    "%reset -f\n",
    "import numpy as np\n",
    "from scipy.sparse import csc_matrix\n",
    "from time import time\n",
    "\n",
    "COUNT = 20\n",
    "N = 15000\n",
    "P = 0.1\n",
    "\n",
    "tic_0 = time()\n",
    "\n",
    "# construct matrix and vector\n",
    "a = (np.random.rand(N, N) < P).astype(np.float32)\n",
    "a_sparse = csc_matrix(a)\n",
    "x = np.random.rand(N)\n",
    "\n",
    "tic_1 = time()\n",
    "\n",
    "# perform dense multiplications\n",
    "for ii in range(COUNT):\n",
    "    b = a.dot(x)\n",
    "    \n",
    "tic_2 = time()\n",
    "\n",
    "# perform sparse multiplications\n",
    "for ii in range(COUNT):\n",
    "    b = a_sparse.dot(x)\n",
    "    \n",
    "tic_3 = time()\n",
    "\n",
    "print('Construction time: {0:.6f} seconds.'.format(tic_1 - tic_0))\n",
    "print('Dense product time: {0:.6f} seconds.'.format(tic_2 - tic_1))\n",
    "print('Sparse product time: {0:.6f} seconds.'.format(tic_3 - tic_2))"
   ]
  },
  {
   "cell_type": "markdown",
   "metadata": {},
   "source": [
    "### GPC 8 vCPUs"
   ]
  },
  {
   "cell_type": "code",
   "execution_count": 2,
   "metadata": {
    "collapsed": false
   },
   "outputs": [
    {
     "name": "stdout",
     "output_type": "stream",
     "text": [
      "Construction time: 8.758277 seconds.\n",
      "Dense product time: 27.292543 seconds.\n",
      "Sparse product time: 3.492099 seconds.\n"
     ]
    }
   ],
   "source": [
    "%reset -f\n",
    "import numpy as np\n",
    "from scipy.sparse import csc_matrix\n",
    "from time import time\n",
    "\n",
    "COUNT = 20\n",
    "N = 15000\n",
    "P = 0.1\n",
    "\n",
    "tic_0 = time()\n",
    "\n",
    "# construct matrix and vector\n",
    "a = (np.random.rand(N, N) < P).astype(np.float32)\n",
    "a_sparse = csc_matrix(a)\n",
    "x = np.random.rand(N)\n",
    "\n",
    "tic_1 = time()\n",
    "\n",
    "# perform dense multiplications\n",
    "for ii in range(COUNT):\n",
    "    b = a.dot(x)\n",
    "    \n",
    "tic_2 = time()\n",
    "\n",
    "# perform sparse multiplications\n",
    "for ii in range(COUNT):\n",
    "    b = a_sparse.dot(x)\n",
    "    \n",
    "tic_3 = time()\n",
    "\n",
    "print('Construction time: {0:.6f} seconds.'.format(tic_1 - tic_0))\n",
    "print('Dense product time: {0:.6f} seconds.'.format(tic_2 - tic_1))\n",
    "print('Sparse product time: {0:.6f} seconds.'.format(tic_3 - tic_2))"
   ]
  },
  {
   "cell_type": "code",
   "execution_count": 4,
   "metadata": {
    "collapsed": false
   },
   "outputs": [
    {
     "name": "stdout",
     "output_type": "stream",
     "text": [
      "Construction time: 8.457451 seconds.\n",
      "Dense product time: 26.896196 seconds.\n",
      "Sparse product time: 3.240885 seconds.\n"
     ]
    }
   ],
   "source": [
    "%reset -f\n",
    "import numpy as np\n",
    "from scipy.sparse import csr_matrix\n",
    "from time import time\n",
    "\n",
    "COUNT = 20\n",
    "N = 15000\n",
    "P = 0.1\n",
    "\n",
    "tic_0 = time()\n",
    "\n",
    "# construct matrix and vector\n",
    "a = (np.random.rand(N, N) < P).astype(np.float32)\n",
    "a_sparse = csr_matrix(a)\n",
    "x = np.random.rand(N)\n",
    "\n",
    "tic_1 = time()\n",
    "\n",
    "# perform dense multiplications\n",
    "for ii in range(COUNT):\n",
    "    b = a.dot(x)\n",
    "    \n",
    "tic_2 = time()\n",
    "\n",
    "# perform sparse multiplications\n",
    "for ii in range(COUNT):\n",
    "    b = a_sparse.dot(x)\n",
    "    \n",
    "tic_3 = time()\n",
    "\n",
    "print('Construction time: {0:.6f} seconds.'.format(tic_1 - tic_0))\n",
    "print('Dense product time: {0:.6f} seconds.'.format(tic_2 - tic_1))\n",
    "print('Sparse product time: {0:.6f} seconds.'.format(tic_3 - tic_2))"
   ]
  },
  {
   "cell_type": "markdown",
   "metadata": {},
   "source": [
    "### GPC 24 vCPUs"
   ]
  },
  {
   "cell_type": "code",
   "execution_count": 1,
   "metadata": {
    "collapsed": false
   },
   "outputs": [
    {
     "name": "stdout",
     "output_type": "stream",
     "text": [
      "Construction time: 8.749629 seconds.\n",
      "Dense product time: 25.684255 seconds.\n",
      "Sparse product time: 3.158220 seconds.\n"
     ]
    }
   ],
   "source": [
    "%reset -f\n",
    "import numpy as np\n",
    "from scipy.sparse import csc_matrix\n",
    "from time import time\n",
    "\n",
    "COUNT = 20\n",
    "N = 15000\n",
    "P = 0.1\n",
    "\n",
    "tic_0 = time()\n",
    "\n",
    "# construct matrix and vector\n",
    "a = (np.random.rand(N, N) < P).astype(np.float32)\n",
    "a_sparse = csc_matrix(a)\n",
    "x = np.random.rand(N)\n",
    "\n",
    "tic_1 = time()\n",
    "\n",
    "# perform dense multiplications\n",
    "for ii in range(COUNT):\n",
    "    b = a.dot(x)\n",
    "    \n",
    "tic_2 = time()\n",
    "\n",
    "# perform sparse multiplications\n",
    "for ii in range(COUNT):\n",
    "    b = a_sparse.dot(x)\n",
    "    \n",
    "tic_3 = time()\n",
    "\n",
    "print('Construction time: {0:.6f} seconds.'.format(tic_1 - tic_0))\n",
    "print('Dense product time: {0:.6f} seconds.'.format(tic_2 - tic_1))\n",
    "print('Sparse product time: {0:.6f} seconds.'.format(tic_3 - tic_2))"
   ]
  },
  {
   "cell_type": "code",
   "execution_count": 2,
   "metadata": {
    "collapsed": false
   },
   "outputs": [
    {
     "name": "stdout",
     "output_type": "stream",
     "text": [
      "Construction time: 8.374155 seconds.\n",
      "Dense product time: 27.064497 seconds.\n",
      "Sparse product time: 3.041306 seconds.\n"
     ]
    }
   ],
   "source": [
    "%reset -f\n",
    "import numpy as np\n",
    "from scipy.sparse import csr_matrix\n",
    "from time import time\n",
    "\n",
    "COUNT = 20\n",
    "N = 15000\n",
    "P = 0.1\n",
    "\n",
    "tic_0 = time()\n",
    "\n",
    "# construct matrix and vector\n",
    "a = (np.random.rand(N, N) < P).astype(np.float32)\n",
    "a_sparse = csr_matrix(a)\n",
    "x = np.random.rand(N)\n",
    "\n",
    "tic_1 = time()\n",
    "\n",
    "# perform dense multiplications\n",
    "for ii in range(COUNT):\n",
    "    b = a.dot(x)\n",
    "    \n",
    "tic_2 = time()\n",
    "\n",
    "# perform sparse multiplications\n",
    "for ii in range(COUNT):\n",
    "    b = a_sparse.dot(x)\n",
    "    \n",
    "tic_3 = time()\n",
    "\n",
    "print('Construction time: {0:.6f} seconds.'.format(tic_1 - tic_0))\n",
    "print('Dense product time: {0:.6f} seconds.'.format(tic_2 - tic_1))\n",
    "print('Sparse product time: {0:.6f} seconds.'.format(tic_3 - tic_2))"
   ]
  }
 ],
 "metadata": {
  "kernelspec": {
   "display_name": "Python 3",
   "language": "python",
   "name": "python3"
  },
  "language_info": {
   "codemirror_mode": {
    "name": "ipython",
    "version": 3
   },
   "file_extension": ".py",
   "mimetype": "text/x-python",
   "name": "python",
   "nbconvert_exporter": "python",
   "pygments_lexer": "ipython3",
   "version": "3.5.4"
  }
 },
 "nbformat": 4,
 "nbformat_minor": 2
}
